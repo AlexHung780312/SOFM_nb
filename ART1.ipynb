{
 "cells": [
  {
   "cell_type": "markdown",
   "metadata": {},
   "source": [
    "## Adaptive Resonance Theory\n",
    "Feedback mechanism + Competitive-learning scheme\n",
    "#### ART1"
   ]
  },
  {
   "cell_type": "code",
   "execution_count": 2,
   "metadata": {},
   "outputs": [
    {
     "name": "stderr",
     "output_type": "stream",
     "text": [
      "Using Theano backend.\n"
     ]
    }
   ],
   "source": [
    "import keras\n",
    "from keras.datasets import mnist\n",
    "import numpy as np"
   ]
  },
  {
   "cell_type": "markdown",
   "metadata": {
    "collapsed": true
   },
   "source": [
    "#### 讀取 MNIST\n",
    "see https://github.com/fchollet/keras/blob/master/examples/mnist_cnn.py"
   ]
  },
  {
   "cell_type": "code",
   "execution_count": 10,
   "metadata": {},
   "outputs": [
    {
     "name": "stdout",
     "output_type": "stream",
     "text": [
      "原始 shape = (資料數目, #row, #col)\n",
      "#train =  60000 , #test =  10000\n",
      "image rows =  28 , image_cols =  28\n",
      "image map 轉 vector\n",
      "new x_train.shape =  (60000, 784)\n"
     ]
    }
   ],
   "source": [
    "# input image dimensions\n",
    "img_rows, img_cols = 28, 28\n",
    "\n",
    "# the data, shuffled and split between train and test sets\n",
    "(x_train, y_train), (x_test, y_test) = mnist.load_data()\n",
    "_, img_rows, img_cols = x_train.shape\n",
    "print ('原始 shape = (資料數目, #row, #col)')\n",
    "print ('#train = ', x_train.shape[0], ', #test = ', x_test.shape[0])\n",
    "print ('image rows = ', img_rows, ', image_cols = ', img_cols)\n",
    "# flatten\n",
    "x_train = np.reshape(x_train, (x_train.shape[0], img_rows*img_cols))\n",
    "x_test = np.reshape(x_test, (x_test.shape[0], img_rows*img_cols))\n",
    "print ('image map 轉 vector')\n",
    "print ('new x_train.shape = ', x_train.shape)\n",
    "x_train = x_train.astype('float32')\n",
    "x_test = x_test.astype('float32')"
   ]
  },
  {
   "cell_type": "markdown",
   "metadata": {},
   "source": [
    "因為ART1只適用於\"binary patterns\"，將圖檔轉為binary image\n",
    "$\\left[0,255\\right] \\rightarrow \\left[0,1\\right]$"
   ]
  },
  {
   "cell_type": "code",
   "execution_count": 11,
   "metadata": {
    "collapsed": true
   },
   "outputs": [],
   "source": [
    "def Convert2Binary(x, thre = 128):\n",
    "    idx = x[:,:] < thre\n",
    "    x[idx] = 0\n",
    "    idx = x[:,:] > 0\n",
    "    x[idx] = 1\n",
    "    return x\n",
    "\n",
    "x_train = Convert2Binary(x_train)\n",
    "x_test = Convert2Binary(x_test)"
   ]
  },
  {
   "cell_type": "markdown",
   "metadata": {},
   "source": [
    "#### A. Preparation\n",
    "1. Determin $F_1$ and $F_2$ nodes: $dim(F_1, F_2) = (M,N)$\n",
    "2. Determin parameter values: $A_1\\leq 0,~C_1\\leq 0,~P_1\\leq 0,~L>1$\n",
    "  * $A$: Orienting subsystem, (1 reset node)"
   ]
  },
  {
   "cell_type": "code",
   "execution_count": null,
   "metadata": {
    "collapsed": true
   },
   "outputs": [],
   "source": [
    "class ART1(object):\n",
    "    def __init__(self, M = 5, N = 6, L = 3, rho = 0.9, A = 1, B = 1.5, C = 5, D=0.9):\n",
    "        self.A = 1;"
   ]
  }
 ],
 "metadata": {
  "kernelspec": {
   "display_name": "Python 3",
   "language": "python",
   "name": "python3"
  },
  "language_info": {
   "codemirror_mode": {
    "name": "ipython",
    "version": 3
   },
   "file_extension": ".py",
   "mimetype": "text/x-python",
   "name": "python",
   "nbconvert_exporter": "python",
   "pygments_lexer": "ipython3",
   "version": "3.5.3"
  }
 },
 "nbformat": 4,
 "nbformat_minor": 2
}
