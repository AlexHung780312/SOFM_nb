{
 "cells": [
  {
   "cell_type": "markdown",
   "metadata": {},
   "source": [
    "## Adaptive Resonance Theory\n",
    "Feedback mechanism + Competitive-learning scheme\n",
    "#### ART1"
   ]
  },
  {
   "cell_type": "code",
   "execution_count": 8,
   "metadata": {},
   "outputs": [],
   "source": [
    "%matplotlib inline\n",
    "import matplotlib.pyplot as plt\n",
    "import matplotlib.image as mpimg\n",
    "import keras\n",
    "from keras.datasets import mnist\n",
    "import numpy as np"
   ]
  },
  {
   "cell_type": "markdown",
   "metadata": {
    "collapsed": true
   },
   "source": [
    "#### 讀取 MNIST\n",
    "see https://github.com/fchollet/keras/blob/master/examples/mnist_cnn.py"
   ]
  },
  {
   "cell_type": "code",
   "execution_count": 4,
   "metadata": {},
   "outputs": [
    {
     "name": "stdout",
     "output_type": "stream",
     "text": [
      "Downloading data from https://s3.amazonaws.com/img-datasets/mnist.npz\n",
      "原始 shape = (資料數目, #row, #col)\n",
      "#train =  60000 , #test =  10000\n",
      "image rows =  28 , image_cols =  28\n",
      "image map 轉 vector\n",
      "new x_train.shape =  (60000, 784)\n"
     ]
    }
   ],
   "source": [
    "# input image dimensions\n",
    "img_rows, img_cols = 28, 28\n",
    "\n",
    "# the data, shuffled and split between train and test sets\n",
    "(x_train, y_train), (x_test, y_test) = mnist.load_data()\n",
    "_, img_rows, img_cols = x_train.shape\n",
    "print ('原始 shape = (資料數目, #row, #col)')\n",
    "print ('#train = ', x_train.shape[0], ', #test = ', x_test.shape[0])\n",
    "print ('image rows = ', img_rows, ', image_cols = ', img_cols)\n",
    "# flatten\n",
    "x_train = np.reshape(x_train, (x_train.shape[0], img_rows*img_cols))\n",
    "x_test = np.reshape(x_test, (x_test.shape[0], img_rows*img_cols))\n",
    "print ('image map 轉 vector')\n",
    "print ('new x_train.shape = ', x_train.shape)\n",
    "x_train = x_train.astype('float32')\n",
    "x_test = x_test.astype('float32')"
   ]
  },
  {
   "cell_type": "markdown",
   "metadata": {},
   "source": [
    "因為ART1只適用於\"binary patterns\"，將圖檔轉為binary image\n",
    "$\\left[0,255\\right] \\rightarrow \\left[0,1\\right]$"
   ]
  },
  {
   "cell_type": "code",
   "execution_count": 5,
   "metadata": {
    "collapsed": true
   },
   "outputs": [],
   "source": [
    "def Convert2Binary(x, thre = 128):\n",
    "    idx = x[:,:] < thre\n",
    "    x[idx] = 0\n",
    "    idx = x[:,:] > 0\n",
    "    x[idx] = 1\n",
    "    return x\n",
    "\n",
    "x_train = Convert2Binary(x_train, 1)\n",
    "x_test = Convert2Binary(x_test, 1)"
   ]
  },
  {
   "cell_type": "markdown",
   "metadata": {},
   "source": [
    "#### A. Preparation\n",
    "1. Determin $F_1$ and $F_2$ nodes: $dim(F_1, F_2) = (M,N)$\n",
    "2. Determin parameter values: $A_1\\geq 0,~C_1\\geq 0,~P_1\\geq 0,~L>1$\n",
    "  * $A$: Orienting subsystem, (1 reset node)"
   ]
  },
  {
   "cell_type": "code",
   "execution_count": 6,
   "metadata": {
    "collapsed": true
   },
   "outputs": [],
   "source": [
    "class ART1(object):\n",
    "    def __init__(self, M = 5, N = 6, L = 3.0, rho = 0.9, A = 1.0, B = 1.5, C = 5.0, D=0.9):\n",
    "        self.A = A\n",
    "        self.B = B\n",
    "        self.C = C\n",
    "        self.D = D\n",
    "        self.L = L\n",
    "        self.rho = rho\n",
    "        # activites\n",
    "        self.X1 = np.ones(M) * (-B / (1.0 + C))\n",
    "        self.X2 = np.zeros(N)\n",
    "        # TopDown weights\n",
    "        self.Zi = np.ones((N, M)) * ((B-1.0)/D + 0.2)\n",
    "        self.Zj = np.ones((M, N)) * (L/(L-1.0+M) - 0.1)\n",
    "        self.commited = 0\n",
    "        self.counter = 0;\n",
    "        self.time_stamps = np.zeros(N)\n",
    "    \n",
    "    def OutputF1(self):\n",
    "        S = np.zeros_like(self.X1)\n",
    "        positive_idx = self.X1[:] > 0\n",
    "        S[positive_idx] = 1\n",
    "        return S\n",
    "    \n",
    "    def OutputF2(self, T):\n",
    "        winner = np.argmax(T)\n",
    "        U = np.zeros_like(T)\n",
    "        U[winner] = 1\n",
    "        return U, winner\n",
    "    \n",
    "    def StorePattern(self, winner, I):\n",
    "        self.Zj[:, winner] = I\n",
    "        self.Zi[winner, :] = I\n",
    "        self.time_stamps[winner] = self.counter\n",
    "        return\n",
    "    \n",
    "    def Processing(self, I):\n",
    "        self.counter += 1\n",
    "        self.X1 = np.divide(I, (1.0 + self.A*(I+self.B)+self.C))\n",
    "        # S = F1 output\n",
    "        S = self.OutputF1()\n",
    "        # T = F2 input\n",
    "        T = np.dot(self.Zj[:,:self.commited].transpose(), S)\n",
    "        while T.size > 0 and np.amax(T) > float('-inf'):\n",
    "            # U = F2 winner\n",
    "            U, winner = self.OutputF2(T)\n",
    "            # V = F1 input from F2\n",
    "            V = np.dot(self.Zi[:self.commited,:].transpose(), U)\n",
    "            # F1 activity\n",
    "            self.X1 = np.divide(I + (self.D*V) - self.B, 1 + self.A * (I + self.D*V) + self.C)\n",
    "            S = self.OutputF1()\n",
    "            # reset?\n",
    "            A = (np.sum(S) * 1.0 / np.sum(I)) < self.rho\n",
    "            if A:\n",
    "                # mark winner neuron as inactive\n",
    "                T[winner] = float('-inf')\n",
    "            else:\n",
    "                # matched\n",
    "                # update BU weights\n",
    "                self.Zj[:,winner] = 0\n",
    "                self.Zj[:,winner][self.X1 > 0] = self.L / self.L - 1.0 + np.sum(S)\n",
    "                # update TD weights\n",
    "                self.Zi[winner,:] = 0\n",
    "                self.Zi[winner,:][self.X1 > 0] = 1.0\n",
    "                #\n",
    "                self.time_stamps[winner] = self.counter\n",
    "                return winner\n",
    "        \n",
    "        # no match\n",
    "        if self.commited < self.Zi.shape[0]:\n",
    "            # available uncommited nodes\n",
    "            # store new pattern\n",
    "            winner = self.commited\n",
    "            self.StorePattern(winner, I)\n",
    "            self.commited += 1\n",
    "            return winner\n",
    "        \n",
    "        # replace a long ignored old pattern with new one\n",
    "        winner = np.argmin(self.time_stamps)\n",
    "        self.StorePattern(winner, I)\n",
    "        # print ('replace a long ignored old pattern with new one')\n",
    "        return winner\n"
   ]
  },
  {
   "cell_type": "markdown",
   "metadata": {
    "collapsed": true
   },
   "source": [
    "### Feed data"
   ]
  },
  {
   "cell_type": "code",
   "execution_count": 97,
   "metadata": {},
   "outputs": [],
   "source": [
    "model = ART1(M=x_train.shape[1], N=100, rho=0.6)\n",
    "idx = np.arange(x_train.shape[0])\n",
    "np.random.shuffle(idx)\n",
    "for i in range(x_train.shape[0]):\n",
    "    model.rho = 0.99999 ** i\n",
    "    model.Processing(x_train[idx[i],:])"
   ]
  },
  {
   "cell_type": "code",
   "execution_count": 101,
   "metadata": {},
   "outputs": [
    {
     "data": {
      "image/png": "[encoded data removed]",
      "text/plain": [
       "<matplotlib.figure.Figure at 0x7f5d639ebf28>"
      ]
     },
     "metadata": {},
     "output_type": "display_data"
    }
   ],
   "source": [
    "# plot\n",
    "plt.figure(figsize=(12,12))\n",
    "for i in range(100):\n",
    "    plt.subplot(10,10,1 + i)\n",
    "    plt.axis('off')\n",
    "    plt.imshow(np.reshape(model.Zi[i,:], (28,28)))\n"
   ]
  },
  {
   "cell_type": "code",
   "execution_count": 103,
   "metadata": {},
   "outputs": [
    {
     "data": {
      "image/png": "[encoded data removed]",
      "text/plain": [
       "<matplotlib.figure.Figure at 0x7f5d61cdabe0>"
      ]
     },
     "metadata": {},
     "output_type": "display_data"
    }
   ],
   "source": [
    "plt.figure(figsize=(12,12))\n",
    "for i in range(100):\n",
    "    plt.subplot(10,10,1 + i)\n",
    "    plt.axis('off')\n",
    "    plt.imshow(np.reshape(model.Zj[:,i]-model.Zi[i,:], (28,28)))\n"
   ]
  },
  {
   "cell_type": "code",
   "execution_count": null,
   "metadata": {
    "collapsed": true
   },
   "outputs": [],
   "source": []
  }
 ],
 "metadata": {
  "kernelspec": {
   "display_name": "Python 3",
   "language": "python",
   "name": "python3"
  },
  "language_info": {
   "codemirror_mode": {
    "name": "ipython",
    "version": 3
   },
   "file_extension": ".py",
   "mimetype": "text/x-python",
   "name": "python",
   "nbconvert_exporter": "python",
   "pygments_lexer": "ipython3",
   "version": "3.5.3"
  }
 },
 "nbformat": 4,
 "nbformat_minor": 2
}
