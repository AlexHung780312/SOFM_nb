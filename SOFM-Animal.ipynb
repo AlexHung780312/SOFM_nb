{
 "cells": [
  {
   "cell_type": "code",
   "execution_count": 1,
   "metadata": {
    "collapsed": true
   },
   "outputs": [],
   "source": [
    "%matplotlib inline\n",
    "import matplotlib\n",
    "# matplotlib.use('Agg')\n",
    "import matplotlib.pyplot as plt\n",
    "import math\n",
    "import numpy as np\n",
    "import numpy.matlib\n",
    "import numpy.random\n",
    "from numpy import linalg as LA"
   ]
  },
  {
   "cell_type": "markdown",
   "metadata": {},
   "source": [
    "### data preprocessing"
   ]
  },
  {
   "cell_type": "code",
   "execution_count": 2,
   "metadata": {},
   "outputs": [
    {
     "name": "stdout",
     "output_type": "stream",
     "text": [
      "(16, 29)\n"
     ]
    }
   ],
   "source": [
    "animal=['Dove','Hen','Duck','Goose','Owl','Hawk','Eagle','Fox','Dog','Wolf','Cat','Tiger','Lion','Horse','Zebra','Cow']\n",
    "a = 1.0\n",
    "x_s = a * np.matlib.eye(16, k=0, dtype=float)\n",
    "x_a = np.matrix('1 0 0 1 0 0 0 0 1 0 0 1 0;' \\\n",
    "                '1 0 0 1 0 0 0 0 1 0 0 0 0;' \\\n",
    "                '1 0 0 1 0 0 0 0 1 0 0 0 1;' \\\n",
    "                '1 0 0 1 0 0 0 0 1 0 0 1 1;' \\\n",
    "                '1 0 0 1 0 0 0 0 1 1 0 1 0;' \\\n",
    "                '1 0 0 1 0 0 0 0 1 1 0 1 0;' \\\n",
    "                '0 1 0 1 0 0 0 0 1 1 0 1 0;' \\\n",
    "                '0 1 0 0 1 1 0 0 0 1 0 0 0;' \\\n",
    "                '0 1 0 0 1 1 0 0 0 0 1 0 0;' \\\n",
    "                '0 1 0 0 1 1 0 1 0 1 1 0 0;' \\\n",
    "                '1 0 0 0 1 1 0 0 0 1 0 0 0;' \\\n",
    "                '0 0 1 0 1 1 0 0 0 1 1 0 0;' \\\n",
    "                '0 0 1 0 1 1 0 1 0 1 1 0 0;' \\\n",
    "                '0 0 1 0 1 1 1 1 0 0 1 0 0;' \\\n",
    "                '0 0 1 0 1 1 1 1 0 0 1 0 0;' \\\n",
    "                '0 0 1 0 1 1 1 0 0 0 0 0 0', dtype=float)\n",
    "\n",
    "x_sa = np.hstack((x_s, x_a))\n",
    "x_0a = np.hstack((np.zeros_like(x_s), x_a))\n",
    "x_s0 = np.hstack((x_s, np.zeros_like(x_a)))\n",
    "print(x_sa.shape)"
   ]
  },
  {
   "cell_type": "markdown",
   "metadata": {},
   "source": [
    "Normalize to unit length"
   ]
  },
  {
   "cell_type": "code",
   "execution_count": 3,
   "metadata": {},
   "outputs": [
    {
     "name": "stdout",
     "output_type": "stream",
     "text": [
      "('2-norm = ', array([ 1.,  1.,  1.,  1.,  1.,  1.,  1.,  1.,  1.,  1.,  1.,  1.,  1.,\n",
      "        1.,  1.,  1.]))\n"
     ]
    }
   ],
   "source": [
    "x_sa = np.diagflat(1.0/LA.norm(x_sa, ord=2, axis=1)) * x_sa\n",
    "x_0a = np.diagflat(1.0/LA.norm(x_0a, ord=2, axis=1)) * x_0a\n",
    "x_s0 = np.diagflat(1.0/LA.norm(x_s0, ord=2, axis=1)) * x_s0\n",
    "print(\"2-norm = \", LA.norm(x_sa, ord=2, axis=1))"
   ]
  },
  {
   "cell_type": "markdown",
   "metadata": {},
   "source": [
    "#### training/testing data generator"
   ]
  },
  {
   "cell_type": "code",
   "execution_count": 4,
   "metadata": {
    "collapsed": true
   },
   "outputs": [],
   "source": [
    "class TrainGen(object):\n",
    "    def __init__(self, x):\n",
    "        self.x_ = x;\n",
    "    def __iter__(self):\n",
    "        idx = np.arange(self.x_.shape[0])\n",
    "        while True:\n",
    "            np.random.shuffle(idx)\n",
    "            for i in idx:\n",
    "                yield self.x_[i, :]\n",
    "                \n",
    "gen = iter(TrainGen(x_sa))"
   ]
  },
  {
   "cell_type": "markdown",
   "metadata": {},
   "source": [
    "### SOM class"
   ]
  },
  {
   "cell_type": "code",
   "execution_count": 5,
   "metadata": {
    "collapsed": true
   },
   "outputs": [],
   "source": [
    "class SOFM2d(object):\n",
    "    def __init__(self, map_x_dim, map_y_dim, feat_dim):\n",
    "        self.map_x_dim = map_x_dim\n",
    "        self.map_y_dim = map_y_dim\n",
    "        self.feat_dim = feat_dim\n",
    "        self.w = np.random.uniform(low=0.49, high=0.51, size=(map_x_dim* map_y_dim, feat_dim))\n",
    "        self.sigma0 = 5\n",
    "        self.eta0 = 0.1\n",
    "        self.tau2 = 2000\n",
    "        self.tau1 = self.tau2 / self.sigma0\n",
    "        # compute d^2_{j,i}\n",
    "        self.d2 = np.zeros((map_x_dim * map_y_dim, map_x_dim * map_y_dim), dtype=float)\n",
    "        self.pos = [(x,y) for x in np.arange(map_x_dim) for y in np.arange(map_y_dim)]\n",
    "        for xi,yi in self.pos:\n",
    "            for xj, yj in self.pos:\n",
    "                self.d2[xj*map_y_dim + yj, xi*map_y_dim + yi] = ((xi-xj) ** 2) + ((yi-yj) ** 2)\n",
    "\n",
    "    def Matching(self, x):\n",
    "        distance = LA.norm(x - self.w[:,:x.shape[1]], ord=2, axis=-1)\n",
    "        winner_idx = np.argmin(distance)\n",
    "        return winner_idx, distance[winner_idx]\n",
    "    \n",
    "    def Updating(self, x, winner_idx, n):\n",
    "        # compute h_x(n)\n",
    "        eta_n = self.eta0 * math.exp(-n / self.tau2)\n",
    "        sigma_n = self.sigma0 * math.exp(-n / self.tau1)\n",
    "        h_n = np.exp(-self.d2[:,winner_idx] / (2.0 * (sigma_n ** 2)))\n",
    "        delta = eta_n * np.diagflat(h_n)* (x - self.w)\n",
    "        self.w = self.w + delta\n",
    "        return delta\n",
    "    \n",
    "    def Idx2Class(self, winner_idx):\n",
    "        return np.argmax(self.w[winner_idx,:16])"
   ]
  },
  {
   "cell_type": "markdown",
   "metadata": {},
   "source": [
    "#### training, 2000 iteration"
   ]
  },
  {
   "cell_type": "code",
   "execution_count": 6,
   "metadata": {
    "collapsed": true
   },
   "outputs": [],
   "source": [
    "model = SOFM2d(10, 10, 29)\n",
    "\n",
    "for i in range(1, 2001):\n",
    "    x = next(gen)\n",
    "    winner_idx, dist = model.Matching(x)\n",
    "    model.Updating(x, winner_idx, i*1.0)"
   ]
  },
  {
   "cell_type": "markdown",
   "metadata": {},
   "source": [
    "#### plot"
   ]
  },
  {
   "cell_type": "code",
   "execution_count": 7,
   "metadata": {},
   "outputs": [
    {
     "data": {
      "image/png": "[encoded data removed]",
      "text/plain": [
       "<matplotlib.figure.Figure at 0x7f3400ef7fd0>"
      ]
     },
     "metadata": {},
     "output_type": "display_data"
    }
   ],
   "source": [
    "fig = plt.figure()\n",
    "ax = fig.add_subplot(111)\n",
    "for idx in range(x_s.shape[0]):\n",
    "    winner_idx,_ = model.Matching(x_s[idx,:])\n",
    "    ax.text(winner_idx%10, winner_idx/10, animal[idx], fontsize=9)\n",
    "    \n",
    "ax.axis([0, 11, 0, 11])\n",
    "plt.show()"
   ]
  }
 ],
 "metadata": {
  "kernelspec": {
   "display_name": "Python 3",
   "language": "python",
   "name": "python3"
  },
  "language_info": {
   "codemirror_mode": {
    "name": "ipython",
    "version": 3
   },
   "file_extension": ".py",
   "mimetype": "text/x-python",
   "name": "python",
   "nbconvert_exporter": "python",
   "pygments_lexer": "ipython3",
   "version": "3.5.3"
  }
 },
 "nbformat": 4,
 "nbformat_minor": 2
}
